{
 "cells": [
  {
   "cell_type": "markdown",
   "metadata": {
    "id": "-rKzcuBejcJB"
   },
   "source": [
    "<table align=\"center\" width=100%>\n",
    "    <tr>\n",
    "        <td width=\"10%\">\n",
    "            <img src=\"in_class.png\">\n",
    "        </td>\n",
    "        <td>\n",
    "            <div align=\"center\">\n",
    "                <font color=\"#21618C\" size=8px>\n",
    "                    <b> Inclass-Lab  <br>(Session 3)\n",
    "                    </b>\n",
    "                </font>\n",
    "            </div>\n",
    "        </td>\n",
    "    </tr>\n",
    "</table>"
   ]
  },
  {
   "cell_type": "markdown",
   "metadata": {
    "id": "QTSAp0qOjcJG"
   },
   "source": [
    "## Table of Content\n",
    "\n",
    "1. **[Data Proccessing](#dp)**\n",
    "2. **[Principal Component Analysis](#PCA)**\n",
    "3. **[Linear Discriminant Analysis](#LDA)**\n",
    "4. **[Kernel Principal Component Analysis](#k-PCA)**\n",
    "5. **[Multiple Corresponding Analysis](#MCA)**"
   ]
  },
  {
   "cell_type": "markdown",
   "metadata": {
    "id": "mQ4ngfmajcJI"
   },
   "source": [
    "## Data Information:-\n",
    "    The datasets consist of several medical predictor (independent) variables and one target (dependent) variable, Outcome. Independent variables include the number of pregnancies the patient has had, their BMI, insulin level, age, and so on.\n",
    "\n",
    "## Attribute information :-\n",
    "    \n",
    "    1. Pregnancies - Number of times pregnant\n",
    "    2. Glucose - Plasma glucose concentration a 2 hours in an oral glucose tolerance test\n",
    "    3. BloodPressure - Diastolic blood pressure (mm Hg)\n",
    "    4. SkinThickness - Triceps skin fold thickness (mm)\n",
    "    5. Insulin - 2-Hour serum insulin (mu U/ml)\n",
    "    6. BMI - Body mass index (weight in kg/(height in m)^2)\n",
    "    7. DiabetesPedigreeFunction - Diabetes pedigree function\n",
    "    8. Age - Age (years)\n",
    "    8. Gender - Male/Female (denoted by 0 or 1)\n",
    "    9. Oxygen_level - Level of oxygen in blood\n",
    "    10. Potassium_level -Level of potassium in blood\n",
    "    11. Sodium_level - Level of sodium in blood\n",
    "    12. Thyroid - Thyroid level in body\n",
    "    13. Outcome - Class variable (0 or 1) 268 of 768 are 1, the others are 0\n"
   ]
  },
  {
   "cell_type": "markdown",
   "metadata": {
    "id": "eUcnaNTYjcJK"
   },
   "source": [
    "**Import the required libraries**"
   ]
  },
  {
   "cell_type": "code",
   "execution_count": null,
   "metadata": {
    "id": "sFN0YloijcJK"
   },
   "outputs": [],
   "source": [
    "# type your code here"
   ]
  },
  {
   "cell_type": "markdown",
   "metadata": {
    "id": "psOYFu6zf98N"
   },
   "source": [
    "### Let's begin with some hands-on practice exercises"
   ]
  },
  {
   "cell_type": "code",
   "execution_count": null,
   "metadata": {
    "id": "wYmtGeD3jcJM"
   },
   "outputs": [],
   "source": [
    "# type your code here"
   ]
  },
  {
   "cell_type": "markdown",
   "metadata": {
    "id": "J2rlDok8jcJN"
   },
   "source": [
    "<a id = \"dp\"> </a>\n",
    "## 1. Data Proccessing"
   ]
  },
  {
   "cell_type": "code",
   "execution_count": null,
   "metadata": {
    "id": "DGcyhKxTjcJO"
   },
   "outputs": [],
   "source": [
    "# type your code here"
   ]
  },
  {
   "cell_type": "markdown",
   "metadata": {
    "id": "V-Q9noPTjcJO"
   },
   "source": [
    "### Segregate the dependant and independent data"
   ]
  },
  {
   "cell_type": "code",
   "execution_count": null,
   "metadata": {
    "id": "e0aFFWwdjcJP"
   },
   "outputs": [],
   "source": [
    "# type your code here"
   ]
  },
  {
   "cell_type": "markdown",
   "metadata": {
    "id": "ErMu3cUDjcJQ"
   },
   "source": [
    "### Process the data (if is required)"
   ]
  },
  {
   "cell_type": "code",
   "execution_count": null,
   "metadata": {
    "id": "SKyOTGR0jcJQ"
   },
   "outputs": [],
   "source": [
    "# type your code here"
   ]
  },
  {
   "cell_type": "markdown",
   "metadata": {
    "id": "ldh6YAygjcJQ"
   },
   "source": [
    "### Apply a classification model on the dataset"
   ]
  },
  {
   "cell_type": "code",
   "execution_count": null,
   "metadata": {
    "id": "cAk5BKF1jcJR"
   },
   "outputs": [],
   "source": [
    "# type your code here"
   ]
  },
  {
   "cell_type": "markdown",
   "metadata": {
    "id": "IOfgJsfFjcJS"
   },
   "source": [
    "<a id = \"PCA\"> </a>\n",
    "## 2. Principal Component Analysis"
   ]
  },
  {
   "cell_type": "markdown",
   "metadata": {
    "id": "ndH7-zFWjcJS"
   },
   "source": [
    "<table align=\"left\">\n",
    "    <tr>\n",
    "        <td width=\"6%\">\n",
    "            <img src=\"question_icon.png\">\n",
    "        </td>\n",
    "        <td>\n",
    "            <div align=\"left\", style=\"font-size:120%\">\n",
    "                <font color=\"#21618C\">\n",
    "                    <b> Apply Principal Component Analysis on the data. </b>\n",
    "                </font>\n",
    "            </div>\n",
    "        </td>\n",
    "    </tr>\n",
    "</table>"
   ]
  },
  {
   "cell_type": "markdown",
   "metadata": {
    "id": "RvaW0MeUjcJU"
   },
   "source": [
    "### Step 1: Find the Covariance Matrix. "
   ]
  },
  {
   "cell_type": "code",
   "execution_count": null,
   "metadata": {
    "id": "LcWANlbzjcJW"
   },
   "outputs": [],
   "source": [
    "# type your code here"
   ]
  },
  {
   "cell_type": "markdown",
   "metadata": {
    "id": "poiN5KGLjcJb"
   },
   "source": [
    "### Step 2: Obtain eigenvectors and eigenvalues"
   ]
  },
  {
   "cell_type": "code",
   "execution_count": null,
   "metadata": {
    "id": "gzZnrSDTjcJf"
   },
   "outputs": [],
   "source": [
    "# type your code here"
   ]
  },
  {
   "cell_type": "markdown",
   "metadata": {
    "id": "vJVPpjN3jcJj"
   },
   "source": [
    "### Step 3 : Sort eigenvalues in descending order"
   ]
  },
  {
   "cell_type": "code",
   "execution_count": null,
   "metadata": {
    "id": "8uXPh3snjcJl"
   },
   "outputs": [],
   "source": [
    "# type your code here"
   ]
  },
  {
   "cell_type": "markdown",
   "metadata": {
    "id": "luRY9znGjcJl"
   },
   "source": [
    "### Step 4: Project data onto 2d "
   ]
  },
  {
   "cell_type": "code",
   "execution_count": null,
   "metadata": {
    "id": "JFjWMGHSjcJn"
   },
   "outputs": [],
   "source": [
    "# type your code here"
   ]
  },
  {
   "cell_type": "markdown",
   "metadata": {
    "id": "OH71lO_rjcJp"
   },
   "source": [
    "<a id = \"LDA\"> </a>\n",
    "## 3. Linear Discriminant Analysis"
   ]
  },
  {
   "cell_type": "markdown",
   "metadata": {
    "id": "H_41CLgJjcJq"
   },
   "source": [
    "<table align=\"left\">\n",
    "    <tr>\n",
    "        <td width=\"6%\">\n",
    "            <img src=\"question_icon.png\">\n",
    "        </td>\n",
    "        <td>\n",
    "            <div align=\"left\", style=\"font-size:120%\">\n",
    "                <font color=\"#21618C\">\n",
    "                    <b> Apply Linear Discriminanat Analysis on the data (if require). Justify your answer. </b>\n",
    "                </font>\n",
    "            </div>\n",
    "        </td>\n",
    "    </tr>\n",
    "</table>"
   ]
  },
  {
   "cell_type": "code",
   "execution_count": null,
   "metadata": {
    "id": "-KcIpL7UjcJr"
   },
   "outputs": [],
   "source": [
    "# type your code here"
   ]
  },
  {
   "cell_type": "markdown",
   "metadata": {
    "id": "iOhjiJYtjcJs"
   },
   "source": [
    "### Hyperparameter tunning of LDA"
   ]
  },
  {
   "cell_type": "code",
   "execution_count": null,
   "metadata": {
    "id": "OwBAKcrTjcJs"
   },
   "outputs": [],
   "source": [
    "# type your code here"
   ]
  },
  {
   "cell_type": "markdown",
   "metadata": {
    "id": "B8DPEd1YjcJt"
   },
   "source": [
    "<a id = \"k-PCA\"> </a>\n",
    "## 4. Kernel Principal Component Analysis"
   ]
  },
  {
   "cell_type": "markdown",
   "metadata": {
    "id": "uF7XkcEBjcJt"
   },
   "source": [
    "<table align=\"left\">\n",
    "    <tr>\n",
    "        <td width=\"6%\">\n",
    "            <img src=\"question_icon.png\">\n",
    "        </td>\n",
    "        <td>\n",
    "            <div align=\"left\", style=\"font-size:120%\">\n",
    "                <font color=\"#21618C\">\n",
    "                    <b> Apply Kernel Principal Component Analysis on the data (if require). Justify your answer. </b>\n",
    "                </font>\n",
    "            </div>\n",
    "        </td>\n",
    "    </tr>\n",
    "</table>"
   ]
  },
  {
   "cell_type": "code",
   "execution_count": null,
   "metadata": {
    "id": "AlL1yff-jcJu"
   },
   "outputs": [],
   "source": [
    "# type your code here"
   ]
  },
  {
   "cell_type": "markdown",
   "metadata": {
    "id": "hQ_qXbahjcJu"
   },
   "source": [
    "### Parameter tunning in Kennel-PCA"
   ]
  },
  {
   "cell_type": "code",
   "execution_count": null,
   "metadata": {
    "id": "da0IsSO_jcJv"
   },
   "outputs": [],
   "source": [
    "# type your code here"
   ]
  },
  {
   "cell_type": "markdown",
   "metadata": {
    "id": "bJ3B5aEtjcJy"
   },
   "source": [
    "<a id = \"MCA\"> </a>\n",
    "## 5. Multiple Corresponding Analysis"
   ]
  },
  {
   "cell_type": "markdown",
   "metadata": {
    "id": "ONqGutctjcJz"
   },
   "source": [
    "<table align=\"left\">\n",
    "    <tr>\n",
    "        <td width=\"6%\">\n",
    "            <img src=\"question_icon.png\">\n",
    "        </td>\n",
    "        <td>\n",
    "            <div align=\"left\", style=\"font-size:120%\">\n",
    "                <font color=\"#21618C\">\n",
    "                    <b> Apply Multiple Corresponding Analysis on the data (if require). Justify your answer. </b>\n",
    "                </font>\n",
    "            </div>\n",
    "        </td>\n",
    "    </tr>\n",
    "</table>"
   ]
  },
  {
   "cell_type": "code",
   "execution_count": null,
   "metadata": {
    "id": "TBNl6vAxjcJ0"
   },
   "outputs": [],
   "source": [
    "# type your code here"
   ]
  },
  {
   "cell_type": "markdown",
   "metadata": {
    "id": "VdN5WkHfjcJ1"
   },
   "source": [
    "<a id = \"con\"> </a>\n",
    "## 6. Conclussion"
   ]
  },
  {
   "cell_type": "markdown",
   "metadata": {
    "id": "q1g-UEnHjcJ1"
   },
   "source": [
    "<table align=\"left\">\n",
    "    <tr>\n",
    "        <td width=\"6%\">\n",
    "            <img src=\"question_icon.png\">\n",
    "        </td>\n",
    "        <td>\n",
    "            <div align=\"left\", style=\"font-size:120%\">\n",
    "                <font color=\"#21618C\">\n",
    "                    <b> Visualize the effect of different type of analysis on the dataset. </b>\n",
    "                </font>\n",
    "            </div>\n",
    "        </td>\n",
    "    </tr>\n",
    "</table>"
   ]
  },
  {
   "cell_type": "code",
   "execution_count": null,
   "metadata": {
    "id": "DoDyAH1MjcJ2"
   },
   "outputs": [],
   "source": [
    "# type your code here"
   ]
  },
  {
   "cell_type": "markdown",
   "metadata": {
    "id": "GTt5A78LjcJ2"
   },
   "source": [
    "                                            ------HAPPY LEARNING -------"
   ]
  }
 ],
 "metadata": {
  "colab": {
   "collapsed_sections": [],
   "name": "inclass_lab_day03_question.ipynb",
   "provenance": [],
   "toc_visible": true
  },
  "hide_input": false,
  "kernelspec": {
   "display_name": "Python 3",
   "language": "python",
   "name": "python3"
  },
  "language_info": {
   "codemirror_mode": {
    "name": "ipython",
    "version": 3
   },
   "file_extension": ".py",
   "mimetype": "text/x-python",
   "name": "python",
   "nbconvert_exporter": "python",
   "pygments_lexer": "ipython3",
   "version": "3.8.8"
  },
  "toc": {
   "base_numbering": 1,
   "nav_menu": {},
   "number_sections": true,
   "sideBar": true,
   "skip_h1_title": false,
   "title_cell": "Table of Contents",
   "title_sidebar": "Contents",
   "toc_cell": false,
   "toc_position": {},
   "toc_section_display": true,
   "toc_window_display": false
  },
  "varInspector": {
   "cols": {
    "lenName": 16,
    "lenType": 16,
    "lenVar": 40
   },
   "kernels_config": {
    "python": {
     "delete_cmd_postfix": "",
     "delete_cmd_prefix": "del ",
     "library": "var_list.py",
     "varRefreshCmd": "print(var_dic_list())"
    },
    "r": {
     "delete_cmd_postfix": ") ",
     "delete_cmd_prefix": "rm(",
     "library": "var_list.r",
     "varRefreshCmd": "cat(var_dic_list()) "
    }
   },
   "types_to_exclude": [
    "module",
    "function",
    "builtin_function_or_method",
    "instance",
    "_Feature"
   ],
   "window_display": false
  }
 },
 "nbformat": 4,
 "nbformat_minor": 1
}
